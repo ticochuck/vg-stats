{
 "cells": [
  {
   "cell_type": "code",
   "execution_count": 1,
   "metadata": {
    "tags": []
   },
   "outputs": [],
   "source": [
    "import pandas as pd"
   ]
  },
  {
   "cell_type": "code",
   "execution_count": 2,
   "metadata": {},
   "outputs": [],
   "source": [
    "df = pd.read_csv('./vgsales.csv')"
   ]
  },
  {
   "cell_type": "code",
   "execution_count": 3,
   "metadata": {},
   "outputs": [
    {
     "data": {
      "text/plain": [
       "'Electronic Arts'"
      ]
     },
     "execution_count": 3,
     "metadata": {},
     "output_type": "execute_result"
    }
   ],
   "source": [
    "# Which company is the most common video game publisher?\n",
    "most_common_publisher = df['Publisher'].value_counts().index[0]\n",
    "most_common_publisher"
   ]
  },
  {
   "cell_type": "code",
   "execution_count": 4,
   "metadata": {},
   "outputs": [
    {
     "data": {
      "text/plain": [
       "'DS'"
      ]
     },
     "execution_count": 4,
     "metadata": {},
     "output_type": "execute_result"
    }
   ],
   "source": [
    "# What’s the most common platform?\n",
    "most_common_platform = df['Platform'].value_counts().index[0]\n",
    "most_common_platform"
   ]
  },
  {
   "cell_type": "code",
   "execution_count": 5,
   "metadata": {},
   "outputs": [
    {
     "data": {
      "text/plain": [
       "'Action'"
      ]
     },
     "execution_count": 5,
     "metadata": {},
     "output_type": "execute_result"
    }
   ],
   "source": [
    "# What about the most common genre?\n",
    "most_common_genre = df['Genre'].value_counts().index[0]\n",
    "most_common_genre"
   ]
  },
  {
   "cell_type": "code",
   "execution_count": 6,
   "metadata": {},
   "outputs": [
    {
     "data": {
      "text/plain": [
       "0     82.74\n",
       "1     40.24\n",
       "2     35.82\n",
       "3     33.00\n",
       "4     31.37\n",
       "5     30.26\n",
       "6     30.01\n",
       "7     29.02\n",
       "8     28.62\n",
       "9     28.31\n",
       "10    24.76\n",
       "11    23.42\n",
       "12    23.10\n",
       "13    22.72\n",
       "14    22.00\n",
       "15    21.82\n",
       "16    21.40\n",
       "17    20.81\n",
       "18    20.61\n",
       "19    20.22\n",
       "Name: Global_Sales, dtype: float64"
      ]
     },
     "execution_count": 6,
     "metadata": {},
     "output_type": "execute_result"
    }
   ],
   "source": [
    "# What are the top 20 highest grossing games?\n",
    "\n",
    "top_twenty_highest_grossing_games = df['Global_Sales'].head(20)\n",
    "top_twenty_highest_grossing_games\n",
    "#top_twenty_highest_grossing_games = top20['Name']\n",
    "#df.loc[top20, 'Name']\n",
    "#top_twenty_highest_grossing_games"
   ]
  },
  {
   "cell_type": "code",
   "execution_count": 7,
   "metadata": {},
   "outputs": [
    {
     "data": {
      "text/plain": [
       "'NA_Sales Median is: 0.08'"
      ]
     },
     "execution_count": 7,
     "metadata": {},
     "output_type": "execute_result"
    }
   ],
   "source": [
    "# For North American video game sales, what’s the median?\n",
    "na_median_sales = df[\"NA_Sales\"].median()\n",
    "f'NA_Sales Median is: {na_median_sales}'\n"
   ]
  },
  {
   "cell_type": "code",
   "execution_count": 8,
   "metadata": {},
   "outputs": [
    {
     "data": {
      "text/plain": [
       "446                                     Dragon Warrior IV\n",
       "497           World Soccer Winning Eleven 7 International\n",
       "1617                               Farming Simulator 2015\n",
       "1926                            Pro Evolution Soccer 2008\n",
       "2067    Winning Eleven: Pro Evolution Soccer 2007 (All...\n",
       "2373                             Phantasy Star Portable 2\n",
       "2579                                 The Sims 2: Castaway\n",
       "3186                                       SingStar Queen\n",
       "3503                                           Top Spin 3\n",
       "3703                 Sonic & All-Stars Racing Transformed\n",
       "Name: Name, dtype: object"
      ]
     },
     "execution_count": 8,
     "metadata": {},
     "output_type": "execute_result"
    }
   ],
   "source": [
    "#   - Provide a secondary output showing ten games surrounding the median sales output\n",
    "#      - assume that games with same median value are sorted in descending order\n",
    "\n",
    "median = df['NA_Sales'].median()\n",
    "above_median = df['NA_Sales']==median\n",
    "df.loc[above_median, ['Name', 'NA_Sales']].head(10)\n",
    "ten_median_na_seller_names = df.loc[above_median, 'Name'].head(10)\n",
    "ten_median_na_seller_names"
   ]
  },
  {
   "cell_type": "code",
   "execution_count": 9,
   "metadata": {},
   "outputs": [
    {
     "data": {
      "text/html": [
       "<div>\n",
       "<style scoped>\n",
       "    .dataframe tbody tr th:only-of-type {\n",
       "        vertical-align: middle;\n",
       "    }\n",
       "\n",
       "    .dataframe tbody tr th {\n",
       "        vertical-align: top;\n",
       "    }\n",
       "\n",
       "    .dataframe thead th {\n",
       "        text-align: right;\n",
       "    }\n",
       "</style>\n",
       "<table border=\"1\" class=\"dataframe\">\n",
       "  <thead>\n",
       "    <tr style=\"text-align: right;\">\n",
       "      <th></th>\n",
       "      <th>Name</th>\n",
       "      <th>NA_Sales</th>\n",
       "    </tr>\n",
       "  </thead>\n",
       "  <tbody>\n",
       "    <tr>\n",
       "      <th>0</th>\n",
       "      <td>Wii Sports</td>\n",
       "      <td>41.49</td>\n",
       "    </tr>\n",
       "  </tbody>\n",
       "</table>\n",
       "</div>"
      ],
      "text/plain": [
       "         Name  NA_Sales\n",
       "0  Wii Sports     41.49"
      ]
     },
     "execution_count": 9,
     "metadata": {},
     "output_type": "execute_result"
    }
   ],
   "source": [
    "# For the top-selling game of all time, \n",
    "df[['Name','NA_Sales']].head(1)"
   ]
  },
  {
   "cell_type": "code",
   "execution_count": 10,
   "metadata": {},
   "outputs": [
    {
     "data": {
      "text/plain": [
       "0.82"
      ]
     },
     "execution_count": 10,
     "metadata": {},
     "output_type": "execute_result"
    }
   ],
   "source": [
    "df['NA_Sales'].std().round(2)"
   ]
  },
  {
   "cell_type": "code",
   "execution_count": 11,
   "metadata": {},
   "outputs": [
    {
     "data": {
      "text/plain": [
       "0.26"
      ]
     },
     "execution_count": 11,
     "metadata": {},
     "output_type": "execute_result"
    }
   ],
   "source": [
    "df['NA_Sales'].mean().round(2)"
   ]
  },
  {
   "cell_type": "code",
   "execution_count": 12,
   "metadata": {},
   "outputs": [
    {
     "data": {
      "text/plain": [
       "0    50.48\n",
       "Name: NA_Sales, dtype: float64"
      ]
     },
     "execution_count": 12,
     "metadata": {},
     "output_type": "execute_result"
    }
   ],
   "source": [
    "# how many standard deviations above/below the mean are its sales for North America?\n",
    "std_from_mean = (df['NA_Sales'].head(1) - df['NA_Sales'].mean()) / df['NA_Sales'].std()\n",
    "std_from_mean.round(2)"
   ]
  },
  {
   "cell_type": "code",
   "execution_count": 13,
   "metadata": {},
   "outputs": [
    {
     "data": {
      "text/plain": [
       "Electronic Arts                 1351\n",
       "Activision                       975\n",
       "Namco Bandai Games               932\n",
       "Ubisoft                          921\n",
       "Konami Digital Entertainment     832\n",
       "THQ                              715\n",
       "Nintendo                         703\n",
       "Sony Computer Entertainment      683\n",
       "Sega                             639\n",
       "Take-Two Interactive             413\n",
       "Name: Publisher, dtype: int64"
      ]
     },
     "execution_count": 13,
     "metadata": {},
     "output_type": "execute_result"
    }
   ],
   "source": [
    "# The Nintendo Wii seems to have outdone itself with games. \n",
    "# How does its average number of sales compare with all of the other platforms?\n",
    "\n",
    "df['Publisher'].value_counts().head(10)"
   ]
  },
  {
   "cell_type": "code",
   "execution_count": 14,
   "metadata": {},
   "outputs": [
    {
     "data": {
      "text/html": [
       "<div>\n",
       "<style scoped>\n",
       "    .dataframe tbody tr th:only-of-type {\n",
       "        vertical-align: middle;\n",
       "    }\n",
       "\n",
       "    .dataframe tbody tr th {\n",
       "        vertical-align: top;\n",
       "    }\n",
       "\n",
       "    .dataframe thead th {\n",
       "        text-align: right;\n",
       "    }\n",
       "</style>\n",
       "<table border=\"1\" class=\"dataframe\">\n",
       "  <thead>\n",
       "    <tr style=\"text-align: right;\">\n",
       "      <th></th>\n",
       "      <th>Name</th>\n",
       "      <th>Global_Sales</th>\n",
       "    </tr>\n",
       "  </thead>\n",
       "  <tbody>\n",
       "    <tr>\n",
       "      <th>0</th>\n",
       "      <td>Wii Sports</td>\n",
       "      <td>82.74</td>\n",
       "    </tr>\n",
       "    <tr>\n",
       "      <th>2</th>\n",
       "      <td>Mario Kart Wii</td>\n",
       "      <td>35.82</td>\n",
       "    </tr>\n",
       "    <tr>\n",
       "      <th>3</th>\n",
       "      <td>Wii Sports Resort</td>\n",
       "      <td>33.00</td>\n",
       "    </tr>\n",
       "    <tr>\n",
       "      <th>7</th>\n",
       "      <td>Wii Play</td>\n",
       "      <td>29.02</td>\n",
       "    </tr>\n",
       "    <tr>\n",
       "      <th>8</th>\n",
       "      <td>New Super Mario Bros. Wii</td>\n",
       "      <td>28.62</td>\n",
       "    </tr>\n",
       "    <tr>\n",
       "      <th>...</th>\n",
       "      <td>...</td>\n",
       "      <td>...</td>\n",
       "    </tr>\n",
       "    <tr>\n",
       "      <th>14376</th>\n",
       "      <td>Eyeshield 21: Field Saikyou no Senshi Tachi</td>\n",
       "      <td>0.03</td>\n",
       "    </tr>\n",
       "    <tr>\n",
       "      <th>14997</th>\n",
       "      <td>Wii de Asobu: Metroid Prime</td>\n",
       "      <td>0.02</td>\n",
       "    </tr>\n",
       "    <tr>\n",
       "      <th>14999</th>\n",
       "      <td>Wii de Asobu: Metroid Prime</td>\n",
       "      <td>0.02</td>\n",
       "    </tr>\n",
       "    <tr>\n",
       "      <th>15991</th>\n",
       "      <td>Donkey Kong Jungle Beat</td>\n",
       "      <td>0.01</td>\n",
       "    </tr>\n",
       "    <tr>\n",
       "      <th>16473</th>\n",
       "      <td>Captain Rainbow</td>\n",
       "      <td>0.01</td>\n",
       "    </tr>\n",
       "  </tbody>\n",
       "</table>\n",
       "<p>84 rows × 2 columns</p>\n",
       "</div>"
      ],
      "text/plain": [
       "                                              Name  Global_Sales\n",
       "0                                       Wii Sports         82.74\n",
       "2                                   Mario Kart Wii         35.82\n",
       "3                                Wii Sports Resort         33.00\n",
       "7                                         Wii Play         29.02\n",
       "8                        New Super Mario Bros. Wii         28.62\n",
       "...                                            ...           ...\n",
       "14376  Eyeshield 21: Field Saikyou no Senshi Tachi          0.03\n",
       "14997                  Wii de Asobu: Metroid Prime          0.02\n",
       "14999                  Wii de Asobu: Metroid Prime          0.02\n",
       "15991                      Donkey Kong Jungle Beat          0.01\n",
       "16473                              Captain Rainbow          0.01\n",
       "\n",
       "[84 rows x 2 columns]"
      ]
     },
     "execution_count": 14,
     "metadata": {},
     "output_type": "execute_result"
    }
   ],
   "source": [
    "wii = df['Platform'] == 'Wii'\n",
    "pub = df['Publisher'] == 'Nintendo'\n",
    "nintendo_wii_gs = df.loc[pub & wii, ['Name', 'Global_Sales']]\n",
    "nintendo_wii_gs"
   ]
  },
  {
   "cell_type": "code",
   "execution_count": 15,
   "metadata": {},
   "outputs": [
    {
     "data": {
      "text/plain": [
       "4.65"
      ]
     },
     "execution_count": 15,
     "metadata": {},
     "output_type": "execute_result"
    }
   ],
   "source": [
    "nintendo_wii_gs[\"Global_Sales\"].mean().round(2)"
   ]
  },
  {
   "cell_type": "code",
   "execution_count": 16,
   "metadata": {},
   "outputs": [
    {
     "data": {
      "text/plain": [
       "Platform\n",
       "2600    0.73\n",
       "3DO     0.03\n",
       "3DS     0.49\n",
       "DC      0.31\n",
       "DS      0.38\n",
       "GB      2.61\n",
       "GBA     0.39\n",
       "GC      0.36\n",
       "GEN     1.05\n",
       "GG      0.04\n",
       "N64     0.69\n",
       "NES     2.56\n",
       "NG      0.12\n",
       "PC      0.27\n",
       "PCFX    0.03\n",
       "PS      0.61\n",
       "PS2     0.58\n",
       "PS3     0.72\n",
       "PS4     0.83\n",
       "PSP     0.24\n",
       "PSV     0.15\n",
       "SAT     0.19\n",
       "SCD     0.31\n",
       "SNES    0.84\n",
       "TG16    0.08\n",
       "WS      0.24\n",
       "Wii     0.70\n",
       "WiiU    0.57\n",
       "X360    0.77\n",
       "XB      0.31\n",
       "XOne    0.66\n",
       "Name: Global_Sales, dtype: float64"
      ]
     },
     "execution_count": 16,
     "metadata": {},
     "output_type": "execute_result"
    }
   ],
   "source": [
    "df.groupby('Platform')['Global_Sales'].mean().round(2)"
   ]
  },
  {
   "cell_type": "code",
   "execution_count": 17,
   "metadata": {},
   "outputs": [
    {
     "data": {
      "text/plain": [
       "225                           Tony Hawk's Pro Skater 2\n",
       "683                                       Mario Tennis\n",
       "778                             Tony Hawk's Pro Skater\n",
       "1085                                   Madden NFL 2001\n",
       "1100                                               SSX\n",
       "                             ...                      \n",
       "12708                                      G1 Jockey 2\n",
       "12814    Jikkyou Powerful Pro Yakyuu DreamCast Edition\n",
       "13201                 Power Spike Pro Beach Volleyball\n",
       "13708                             NBA in the Zone 2000\n",
       "16579                                PGA European Tour\n",
       "Name: Name, Length: 81, dtype: object"
      ]
     },
     "execution_count": 17,
     "metadata": {},
     "output_type": "execute_result"
    }
   ],
   "source": [
    "# Come up with 3 more questions that can be answered with this data set.\n",
    "\n",
    "# sports games in 2000\n",
    "sports = df['Genre'] == 'Sports'\n",
    "year = df['Year'] == 2000\n",
    "df.loc[sports & year, 'Name']"
   ]
  },
  {
   "cell_type": "code",
   "execution_count": 18,
   "metadata": {},
   "outputs": [
    {
     "data": {
      "text/plain": [
       "Genre\n",
       "Action          3253\n",
       "Sports          2304\n",
       "Misc            1710\n",
       "Role-Playing    1471\n",
       "Shooter         1282\n",
       "Adventure       1276\n",
       "Racing          1226\n",
       "Platform         876\n",
       "Simulation       851\n",
       "Fighting         836\n",
       "Strategy         671\n",
       "Puzzle           571\n",
       "Name: Year, dtype: int64"
      ]
     },
     "execution_count": 18,
     "metadata": {},
     "output_type": "execute_result"
    }
   ],
   "source": [
    "df.groupby('Genre')['Year'].count().sort_values(ascending=False)"
   ]
  },
  {
   "cell_type": "code",
   "execution_count": 19,
   "metadata": {},
   "outputs": [
    {
     "data": {
      "text/plain": [
       "0.54"
      ]
     },
     "execution_count": 19,
     "metadata": {},
     "output_type": "execute_result"
    }
   ],
   "source": [
    "global_mean = df['Global_Sales'].mean().round(2)\n",
    "global_mean"
   ]
  },
  {
   "cell_type": "code",
   "execution_count": 20,
   "metadata": {},
   "outputs": [
    {
     "data": {
      "text/html": [
       "<div>\n",
       "<style scoped>\n",
       "    .dataframe tbody tr th:only-of-type {\n",
       "        vertical-align: middle;\n",
       "    }\n",
       "\n",
       "    .dataframe tbody tr th {\n",
       "        vertical-align: top;\n",
       "    }\n",
       "\n",
       "    .dataframe thead th {\n",
       "        text-align: right;\n",
       "    }\n",
       "</style>\n",
       "<table border=\"1\" class=\"dataframe\">\n",
       "  <thead>\n",
       "    <tr style=\"text-align: right;\">\n",
       "      <th></th>\n",
       "      <th>Name</th>\n",
       "      <th>EU_Sales</th>\n",
       "    </tr>\n",
       "  </thead>\n",
       "  <tbody>\n",
       "    <tr>\n",
       "      <th>0</th>\n",
       "      <td>Wii Sports</td>\n",
       "      <td>29.02</td>\n",
       "    </tr>\n",
       "    <tr>\n",
       "      <th>1</th>\n",
       "      <td>Super Mario Bros.</td>\n",
       "      <td>3.58</td>\n",
       "    </tr>\n",
       "    <tr>\n",
       "      <th>2</th>\n",
       "      <td>Mario Kart Wii</td>\n",
       "      <td>12.88</td>\n",
       "    </tr>\n",
       "    <tr>\n",
       "      <th>3</th>\n",
       "      <td>Wii Sports Resort</td>\n",
       "      <td>11.01</td>\n",
       "    </tr>\n",
       "    <tr>\n",
       "      <th>4</th>\n",
       "      <td>Pokemon Red/Pokemon Blue</td>\n",
       "      <td>8.89</td>\n",
       "    </tr>\n",
       "    <tr>\n",
       "      <th>5</th>\n",
       "      <td>Tetris</td>\n",
       "      <td>2.26</td>\n",
       "    </tr>\n",
       "    <tr>\n",
       "      <th>6</th>\n",
       "      <td>New Super Mario Bros.</td>\n",
       "      <td>9.23</td>\n",
       "    </tr>\n",
       "    <tr>\n",
       "      <th>7</th>\n",
       "      <td>Wii Play</td>\n",
       "      <td>9.20</td>\n",
       "    </tr>\n",
       "    <tr>\n",
       "      <th>8</th>\n",
       "      <td>New Super Mario Bros. Wii</td>\n",
       "      <td>7.06</td>\n",
       "    </tr>\n",
       "    <tr>\n",
       "      <th>9</th>\n",
       "      <td>Duck Hunt</td>\n",
       "      <td>0.63</td>\n",
       "    </tr>\n",
       "  </tbody>\n",
       "</table>\n",
       "</div>"
      ],
      "text/plain": [
       "                        Name  EU_Sales\n",
       "0                 Wii Sports     29.02\n",
       "1          Super Mario Bros.      3.58\n",
       "2             Mario Kart Wii     12.88\n",
       "3          Wii Sports Resort     11.01\n",
       "4   Pokemon Red/Pokemon Blue      8.89\n",
       "5                     Tetris      2.26\n",
       "6      New Super Mario Bros.      9.23\n",
       "7                   Wii Play      9.20\n",
       "8  New Super Mario Bros. Wii      7.06\n",
       "9                  Duck Hunt      0.63"
      ]
     },
     "execution_count": 20,
     "metadata": {},
     "output_type": "execute_result"
    }
   ],
   "source": [
    "# EU Sales above mean\n",
    "above_mean = df['EU_Sales'] > global_mean\n",
    "df.loc[above_mean, ['Name', 'EU_Sales']].head(10)"
   ]
  },
  {
   "cell_type": "code",
   "execution_count": 21,
   "metadata": {},
   "outputs": [
    {
     "name": "stdout",
     "output_type": "stream",
     "text": [
      "Success!!!\n"
     ]
    }
   ],
   "source": [
    "def test():\n",
    "\n",
    "    def assert_equal(actual,expected):\n",
    "        assert actual == expected, f\"Expected {expected} but got {actual}\"\n",
    "\n",
    "    assert_equal(most_common_publisher, 'Electronic Arts')\n",
    "    assert_equal(most_common_platform, 'DS')\n",
    "    assert_equal(most_common_genre, 'Action')\n",
    "    assert_equal(top_twenty_highest_grossing_games.iloc[0], [82.74])\n",
    "    assert_equal(top_twenty_highest_grossing_games.iloc[19], [20.22])\n",
    "    assert_equal(na_median_sales, 0.08)\n",
    "    #assert_equal(ten_median_na_seller_names.iloc[1], [['World Soccer Winning Eleven 7 International']])\n",
    "    \n",
    "    print(\"Success!!!\")\n",
    "\n",
    "test()"
   ]
  }
 ],
 "metadata": {
  "kernelspec": {
   "display_name": "Python 3.8.2 64-bit",
   "language": "python",
   "name": "python38264bitcb6c562bc90a4d4983843fca57226546"
  },
  "language_info": {
   "codemirror_mode": {
    "name": "ipython",
    "version": 3
   },
   "file_extension": ".py",
   "mimetype": "text/x-python",
   "name": "python",
   "nbconvert_exporter": "python",
   "pygments_lexer": "ipython3",
   "version": "3.8.2"
  }
 },
 "nbformat": 4,
 "nbformat_minor": 4
}
