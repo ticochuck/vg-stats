{
 "cells": [
  {
   "cell_type": "code",
   "execution_count": 1,
   "metadata": {
    "tags": []
   },
   "outputs": [],
   "source": [
    "import pandas as pd"
   ]
  },
  {
   "cell_type": "code",
   "execution_count": 2,
   "metadata": {},
   "outputs": [],
   "source": [
    "df = pd.read_csv('./trip.csv')"
   ]
  },
  {
   "cell_type": "code",
   "execution_count": 3,
   "metadata": {},
   "outputs": [
    {
     "data": {
      "text/plain": [
       "'Average trip duration is: 38.35 minutes'"
      ]
     },
     "execution_count": 3,
     "metadata": {},
     "output_type": "execute_result"
    }
   ],
   "source": [
    "# What is the average trip duration for a borrowed bicycle?\n",
    "\n",
    "trip_duration = df['tripduration'].mean()\n",
    "time = (trip_duration % 60)\n",
    "f'Average trip duration is: {time.round(2)} minutes'"
   ]
  },
  {
   "cell_type": "code",
   "execution_count": 4,
   "metadata": {},
   "outputs": [
    {
     "name": "stdout",
     "output_type": "stream",
     "text": [
      "Most common age\n"
     ]
    },
    {
     "data": {
      "text/plain": [
       "0    33\n",
       "dtype: int64"
      ]
     },
     "execution_count": 4,
     "metadata": {},
     "output_type": "execute_result"
    }
   ],
   "source": [
    "# What’s the most common age of a bicycle-sharer?\n",
    "year = df['birthyear'].value_counts().head(1)\n",
    "age = df['birthyear'].mode()\n",
    "most_common = 2020 - age\n",
    "print('Most common age')\n",
    "most_common.astype(int)"
   ]
  },
  {
   "cell_type": "code",
   "execution_count": 5,
   "metadata": {},
   "outputs": [],
   "source": [
    "df2 = pd.read_csv('weather.csv')"
   ]
  },
  {
   "cell_type": "code",
   "execution_count": 6,
   "metadata": {},
   "outputs": [
    {
     "name": "stdout",
     "output_type": "stream",
     "text": [
      "Average Precipitation Monthly\n"
     ]
    },
    {
     "data": {
      "text/plain": [
       "Date\n",
       "2014-10-01    0.300526\n",
       "2014-11-01    0.141667\n",
       "2014-12-01    0.145161\n",
       "2015-01-01    0.070645\n",
       "2015-02-01    0.163214\n",
       "2015-03-01    0.135161\n",
       "2015-04-01    0.056667\n",
       "2015-05-01    0.014194\n",
       "2015-06-01    0.005667\n",
       "2015-07-01    0.008710\n",
       "2015-08-01    0.035484\n",
       "2015-09-01    0.041000\n",
       "2015-10-01    0.120645\n",
       "2015-11-01    0.234000\n",
       "2015-12-01    0.327419\n",
       "2016-01-01    0.216452\n",
       "2016-02-01    0.173448\n",
       "2016-03-01    0.178710\n",
       "2016-04-01    0.046000\n",
       "2016-05-01    0.010645\n",
       "2016-06-01    0.055333\n",
       "2016-07-01    0.015484\n",
       "2016-08-01    0.000968\n",
       "Freq: MS, Name: Precipitation_In, dtype: float64"
      ]
     },
     "execution_count": 6,
     "metadata": {},
     "output_type": "execute_result"
    }
   ],
   "source": [
    "# Given all the weather data here, find the average precipitation per month, \n",
    "# df2['Precipitation_In'].median()\n",
    "df2 = pd.read_csv('weather.csv')\n",
    "df2.Date = pd.to_datetime(df2.Date)\n",
    "df2.set_index('Date', inplace=True)\n",
    "monthly_precipitation = df2.resample('MS').sum()\n",
    "total_days = df2.resample('MS').count()\n",
    "avg_precipitation = monthly_precipitation/total_days\n",
    "print('Average Precipitation Monthly')\n",
    "avg_precipitation['Precipitation_In']"
   ]
  },
  {
   "cell_type": "code",
   "execution_count": 7,
   "metadata": {},
   "outputs": [
    {
     "name": "stdout",
     "output_type": "stream",
     "text": [
      "Median Precipitation\n"
     ]
    },
    {
     "data": {
      "text/plain": [
       "0.07"
      ]
     },
     "execution_count": 7,
     "metadata": {},
     "output_type": "execute_result"
    }
   ],
   "source": [
    "# and the median precipitation.\n",
    "print('Median Precipitation')\n",
    "avg_precipitation['Precipitation_In'].median().round(2)"
   ]
  },
  {
   "cell_type": "code",
   "execution_count": 8,
   "metadata": {},
   "outputs": [],
   "source": [
    "df3 = pd.read_csv('station.csv')"
   ]
  },
  {
   "cell_type": "code",
   "execution_count": 9,
   "metadata": {},
   "outputs": [
    {
     "name": "stdout",
     "output_type": "stream",
     "text": [
      "Avg number of bikes per station\n"
     ]
    },
    {
     "data": {
      "text/plain": [
       "17"
      ]
     },
     "execution_count": 9,
     "metadata": {},
     "output_type": "execute_result"
    }
   ],
   "source": [
    "# What’s the average number of bikes at a given bike station?\n",
    "print('Avg number of bikes per station')\n",
    "df3['current_dockcount'].mean().round(0).astype(int)"
   ]
  },
  {
   "cell_type": "code",
   "execution_count": 10,
   "metadata": {},
   "outputs": [
    {
     "name": "stdout",
     "output_type": "stream",
     "text": [
      "Inventory is likely to decrease after a station is modified\n"
     ]
    },
    {
     "data": {
      "text/plain": [
       "'The total inventory changed from 1020 to 958, so we have -62 bikes now'"
      ]
     },
     "execution_count": 10,
     "metadata": {},
     "output_type": "execute_result"
    }
   ],
   "source": [
    "# When a bike station is modified, is it more likely that it’ll lose bikes or gain bikes? How do you know?\n",
    "df3['diff'] = df3['current_dockcount'] - df3['install_dockcount']\n",
    "print('Inventory is likely to decrease after a station is modified')\n",
    "f'The total inventory changed from {df3[\"install_dockcount\"].sum()} to {df3[\"current_dockcount\"].sum()}, so we have {df3[\"diff\"].sum()} bikes now'"
   ]
  },
  {
   "cell_type": "code",
   "execution_count": 11,
   "metadata": {},
   "outputs": [
    {
     "data": {
      "text/html": [
       "<div>\n",
       "<style scoped>\n",
       "    .dataframe tbody tr th:only-of-type {\n",
       "        vertical-align: middle;\n",
       "    }\n",
       "\n",
       "    .dataframe tbody tr th {\n",
       "        vertical-align: top;\n",
       "    }\n",
       "\n",
       "    .dataframe thead th {\n",
       "        text-align: right;\n",
       "    }\n",
       "</style>\n",
       "<table border=\"1\" class=\"dataframe\">\n",
       "  <thead>\n",
       "    <tr style=\"text-align: right;\">\n",
       "      <th></th>\n",
       "      <th>name</th>\n",
       "      <th>install_dockcount</th>\n",
       "      <th>current_dockcount</th>\n",
       "      <th>diff</th>\n",
       "    </tr>\n",
       "  </thead>\n",
       "  <tbody>\n",
       "    <tr>\n",
       "      <th>7</th>\n",
       "      <td>2nd Ave &amp; Spring St</td>\n",
       "      <td>20</td>\n",
       "      <td>18</td>\n",
       "      <td>-2</td>\n",
       "    </tr>\n",
       "    <tr>\n",
       "      <th>10</th>\n",
       "      <td>12th Ave &amp; E Yesler Way</td>\n",
       "      <td>16</td>\n",
       "      <td>0</td>\n",
       "      <td>-16</td>\n",
       "    </tr>\n",
       "    <tr>\n",
       "      <th>12</th>\n",
       "      <td>E Harrison St &amp; Broadway Ave E</td>\n",
       "      <td>18</td>\n",
       "      <td>20</td>\n",
       "      <td>2</td>\n",
       "    </tr>\n",
       "    <tr>\n",
       "      <th>17</th>\n",
       "      <td>Cal Anderson Park / 11th Ave &amp; Pine St</td>\n",
       "      <td>28</td>\n",
       "      <td>26</td>\n",
       "      <td>-2</td>\n",
       "    </tr>\n",
       "    <tr>\n",
       "      <th>19</th>\n",
       "      <td>Bellevue Ave &amp; E Pine St</td>\n",
       "      <td>18</td>\n",
       "      <td>14</td>\n",
       "      <td>-4</td>\n",
       "    </tr>\n",
       "    <tr>\n",
       "      <th>22</th>\n",
       "      <td>Children's Hospital / Sandpoint Way NE &amp; 40th ...</td>\n",
       "      <td>30</td>\n",
       "      <td>24</td>\n",
       "      <td>-6</td>\n",
       "    </tr>\n",
       "    <tr>\n",
       "      <th>23</th>\n",
       "      <td>Fred Hutchinson Cancer Research Center / Fairv...</td>\n",
       "      <td>12</td>\n",
       "      <td>16</td>\n",
       "      <td>4</td>\n",
       "    </tr>\n",
       "    <tr>\n",
       "      <th>26</th>\n",
       "      <td>Frye Art Museum / Terry Ave &amp; Columbia St</td>\n",
       "      <td>16</td>\n",
       "      <td>0</td>\n",
       "      <td>-16</td>\n",
       "    </tr>\n",
       "    <tr>\n",
       "      <th>31</th>\n",
       "      <td>REI / Yale Ave N &amp; John St</td>\n",
       "      <td>18</td>\n",
       "      <td>20</td>\n",
       "      <td>2</td>\n",
       "    </tr>\n",
       "    <tr>\n",
       "      <th>35</th>\n",
       "      <td>Westlake Ave &amp; 6th Ave</td>\n",
       "      <td>12</td>\n",
       "      <td>20</td>\n",
       "      <td>8</td>\n",
       "    </tr>\n",
       "    <tr>\n",
       "      <th>37</th>\n",
       "      <td>Lake Union Park / Valley St &amp; Boren Ave N</td>\n",
       "      <td>18</td>\n",
       "      <td>16</td>\n",
       "      <td>-2</td>\n",
       "    </tr>\n",
       "    <tr>\n",
       "      <th>38</th>\n",
       "      <td>Dexter Ave &amp; Denny Way</td>\n",
       "      <td>20</td>\n",
       "      <td>0</td>\n",
       "      <td>-20</td>\n",
       "    </tr>\n",
       "    <tr>\n",
       "      <th>39</th>\n",
       "      <td>Key Arena / 1st Ave N &amp; Harrison St</td>\n",
       "      <td>12</td>\n",
       "      <td>16</td>\n",
       "      <td>4</td>\n",
       "    </tr>\n",
       "    <tr>\n",
       "      <th>46</th>\n",
       "      <td>UW McCarty Hall / Whitman Ct</td>\n",
       "      <td>16</td>\n",
       "      <td>0</td>\n",
       "      <td>-16</td>\n",
       "    </tr>\n",
       "    <tr>\n",
       "      <th>47</th>\n",
       "      <td>Burke Museum / E Stevens Way NE &amp; Memorial Way NE</td>\n",
       "      <td>12</td>\n",
       "      <td>14</td>\n",
       "      <td>2</td>\n",
       "    </tr>\n",
       "    <tr>\n",
       "      <th>48</th>\n",
       "      <td>15th Ave NE &amp; NE 40th St</td>\n",
       "      <td>18</td>\n",
       "      <td>16</td>\n",
       "      <td>-2</td>\n",
       "    </tr>\n",
       "    <tr>\n",
       "      <th>49</th>\n",
       "      <td>UW Engineering Library / E Stevens Way NE &amp; Je...</td>\n",
       "      <td>12</td>\n",
       "      <td>14</td>\n",
       "      <td>2</td>\n",
       "    </tr>\n",
       "    <tr>\n",
       "      <th>50</th>\n",
       "      <td>UW Intramural Activities Building</td>\n",
       "      <td>20</td>\n",
       "      <td>14</td>\n",
       "      <td>-6</td>\n",
       "    </tr>\n",
       "    <tr>\n",
       "      <th>52</th>\n",
       "      <td>Pier 69 / Alaskan Way &amp; Clay St</td>\n",
       "      <td>18</td>\n",
       "      <td>24</td>\n",
       "      <td>6</td>\n",
       "    </tr>\n",
       "  </tbody>\n",
       "</table>\n",
       "</div>"
      ],
      "text/plain": [
       "                                                 name  install_dockcount  \\\n",
       "7                                 2nd Ave & Spring St                 20   \n",
       "10                            12th Ave & E Yesler Way                 16   \n",
       "12                     E Harrison St & Broadway Ave E                 18   \n",
       "17             Cal Anderson Park / 11th Ave & Pine St                 28   \n",
       "19                           Bellevue Ave & E Pine St                 18   \n",
       "22  Children's Hospital / Sandpoint Way NE & 40th ...                 30   \n",
       "23  Fred Hutchinson Cancer Research Center / Fairv...                 12   \n",
       "26          Frye Art Museum / Terry Ave & Columbia St                 16   \n",
       "31                         REI / Yale Ave N & John St                 18   \n",
       "35                             Westlake Ave & 6th Ave                 12   \n",
       "37          Lake Union Park / Valley St & Boren Ave N                 18   \n",
       "38                             Dexter Ave & Denny Way                 20   \n",
       "39                Key Arena / 1st Ave N & Harrison St                 12   \n",
       "46                       UW McCarty Hall / Whitman Ct                 16   \n",
       "47  Burke Museum / E Stevens Way NE & Memorial Way NE                 12   \n",
       "48                           15th Ave NE & NE 40th St                 18   \n",
       "49  UW Engineering Library / E Stevens Way NE & Je...                 12   \n",
       "50                  UW Intramural Activities Building                 20   \n",
       "52                    Pier 69 / Alaskan Way & Clay St                 18   \n",
       "\n",
       "    current_dockcount  diff  \n",
       "7                  18    -2  \n",
       "10                  0   -16  \n",
       "12                 20     2  \n",
       "17                 26    -2  \n",
       "19                 14    -4  \n",
       "22                 24    -6  \n",
       "23                 16     4  \n",
       "26                  0   -16  \n",
       "31                 20     2  \n",
       "35                 20     8  \n",
       "37                 16    -2  \n",
       "38                  0   -20  \n",
       "39                 16     4  \n",
       "46                  0   -16  \n",
       "47                 14     2  \n",
       "48                 16    -2  \n",
       "49                 14     2  \n",
       "50                 14    -6  \n",
       "52                 24     6  "
      ]
     },
     "execution_count": 11,
     "metadata": {},
     "output_type": "execute_result"
    }
   ],
   "source": [
    "# Come up with 3 more questions that can be answered with this data set.\n",
    "# 1. List of stores that had a change in their inventory\n",
    "inventory_change = df3['diff']!=0\n",
    "inventory_up = df3['diff']>0\n",
    "inventory_down = df3['diff']<0\n",
    "df3.loc[inventory_change, ['name', 'install_dockcount', 'current_dockcount', 'diff']]"
   ]
  },
  {
   "cell_type": "code",
   "execution_count": 12,
   "metadata": {},
   "outputs": [
    {
     "data": {
      "text/plain": [
       "'\\n    A total of 19 stores had a change in their inventory.\\n    8 of those had an increase of bikes. \\n    11 of those had a decrease of bikes.\\n    '"
      ]
     },
     "execution_count": 12,
     "metadata": {},
     "output_type": "execute_result"
    }
   ],
   "source": [
    "# 2. \n",
    "f'''\n",
    "    A total of {inventory_change.sum()} stores had a change in their inventory.\n",
    "    {inventory_up.sum()} of those had an increase of bikes. \n",
    "    {inventory_down.sum()} of those had a decrease of bikes.\n",
    "    '''"
   ]
  },
  {
   "cell_type": "code",
   "execution_count": 13,
   "metadata": {},
   "outputs": [
    {
     "data": {
      "text/plain": [
       "'57.89% of the stores lost bikes after being modified'"
      ]
     },
     "execution_count": 13,
     "metadata": {},
     "output_type": "execute_result"
    }
   ],
   "source": [
    "#3. Avg stores that lost inventory after a modification\n",
    "avg = (inventory_down.sum()/inventory_change.sum())*100\n",
    "f'{avg.round(2)}% of the stores lost bikes after being modified'"
   ]
  },
  {
   "cell_type": "code",
   "execution_count": 14,
   "metadata": {},
   "outputs": [
    {
     "data": {
      "text/plain": [
       "140564"
      ]
     },
     "execution_count": 14,
     "metadata": {},
     "output_type": "execute_result"
    }
   ],
   "source": [
    "#4 Number of Male bike renters\n",
    "man = df['gender']== 'Male'\n",
    "df.loc[man, 'gender'].count()"
   ]
  },
  {
   "cell_type": "code",
   "execution_count": 15,
   "metadata": {},
   "outputs": [
    {
     "name": "stdout",
     "output_type": "stream",
     "text": [
      "Success!!!\n"
     ]
    }
   ],
   "source": [
    "def test():\n",
    "\n",
    "    def assert_equal(actual,expected):\n",
    "        assert actual == expected, f\"Expected {expected} but got {actual}\"\n",
    "    \n",
    "    # test number of stores that had a change in their inventory\n",
    "    x = df3['diff']!=0\n",
    "    assert_equal(x.sum(), 19)\n",
    "    \n",
    "    df = pd.read_csv('./trip.csv')\n",
    "    man = df['gender']== 'Male'\n",
    "    df.loc[man, 'gender'].count()\n",
    "    assert_equal(df.loc[man, 'gender'].count(), 140564)\n",
    "    \n",
    "    # test avg number of bikes per store\n",
    "    assert_equal(df3['current_dockcount'].mean().round(0).astype(int), 17)\n",
    "    print(\"Success!!!\")\n",
    "\n",
    "test()"
   ]
  },
  {
   "cell_type": "code",
   "execution_count": null,
   "metadata": {},
   "outputs": [],
   "source": []
  }
 ],
 "metadata": {
  "kernelspec": {
   "display_name": "Python 3.8.2 64-bit",
   "language": "python",
   "name": "python38264bitcb6c562bc90a4d4983843fca57226546"
  },
  "language_info": {
   "codemirror_mode": {
    "name": "ipython",
    "version": 3
   },
   "file_extension": ".py",
   "mimetype": "text/x-python",
   "name": "python",
   "nbconvert_exporter": "python",
   "pygments_lexer": "ipython3",
   "version": "3.8.2"
  }
 },
 "nbformat": 4,
 "nbformat_minor": 4
}
